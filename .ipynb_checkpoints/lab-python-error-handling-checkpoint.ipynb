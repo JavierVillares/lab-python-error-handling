{
 "cells": [
  {
   "cell_type": "markdown",
   "id": "25d7736c-ba17-4aff-b6bb-66eba20fbf4e",
   "metadata": {},
   "source": [
    "# Lab | Error Handling"
   ]
  },
  {
   "cell_type": "code",
   "execution_count": 1,
   "id": "570555cc",
   "metadata": {},
   "outputs": [],
   "source": [
    "def initialize_inventory(products):\n",
    "    inventory = {}\n",
    "    for product in products:\n",
    "        valid_input = False\n",
    "        while not valid_input:\n",
    "            try:\n",
    "                quantity = int(input(f\"Enter the quantity of {product}s available: \"))\n",
    "                if quantity >= 0:\n",
    "                    inventory[product] = quantity\n",
    "                    valid_input = True\n",
    "                else:\n",
    "                    print(\"Quantity cannot be negative. Please enter a valid quantity.\")\n",
    "            except ValueError:\n",
    "                print(\"Invalid input. Please enter a valid quantity.\")\n",
    "    return inventory"
   ]
  },
  {
   "cell_type": "code",
   "execution_count": 2,
   "id": "9081fcbc",
   "metadata": {},
   "outputs": [],
   "source": [
    "def get_customer_orders(products, inventory):\n",
    "    customer_orders = set()\n",
    "    while True:\n",
    "        try:\n",
    "            num_orders = int(input(\"Enter the number of customer orders: \"))\n",
    "            if num_orders <= 0:\n",
    "                raise ValueError(\"Number of orders must be a positive integer.\")\n",
    "            for _ in range(num_orders):\n",
    "                while True:\n",
    "                    order = input(f\"Choose one of the following items: {products}: \")\n",
    "                    if order in inventory and inventory[order] > 0:\n",
    "                        print(\"You chose:\", order)\n",
    "                        customer_orders.add(order)\n",
    "                        break \n",
    "                    else:\n",
    "                        if order not in inventory:\n",
    "                            print(\"Sorry, '{}' is not available. Please choose another product.\".format(order))\n",
    "                        else:\n",
    "                            print(\"Sorry, '{}' is out of stock. Please choose another product.\".format(order))\n",
    "            break  \n",
    "        except ValueError:\n",
    "            print(\"Invalid input. Please enter a valid positive integer.\")\n",
    "\n",
    "    print(\"Thank you for purchasing:\", customer_orders)\n",
    "    return customer_orders"
   ]
  },
  {
   "cell_type": "code",
   "execution_count": 3,
   "id": "212f8e6d",
   "metadata": {},
   "outputs": [],
   "source": [
    "def update_inventory(customer_orders, products):\n",
    "    for x in customer_orders:\n",
    "        inventory[x] -= 1\n",
    "    return inventory"
   ]
  },
  {
   "cell_type": "code",
   "execution_count": 4,
   "id": "8645777c",
   "metadata": {},
   "outputs": [],
   "source": [
    "def calculate_order_statistics(customer_orders, products):\n",
    "    order_statistics = len(customer_orders)/len(products)*100\n",
    "    print(\"Percentage of customer order\", order_statistics,\"%\")\n",
    "    return order_statistics"
   ]
  },
  {
   "cell_type": "code",
   "execution_count": 5,
   "id": "0b6bdbc1",
   "metadata": {},
   "outputs": [],
   "source": [
    "def print_order_statistics(order_statistics):\n",
    "    print(customer_orders)"
   ]
  },
  {
   "cell_type": "code",
   "execution_count": 6,
   "id": "a1c7457d",
   "metadata": {},
   "outputs": [],
   "source": [
    "def print_updated_inventory(inventory):\n",
    "    for x,y in inventory.items(): #basic nice display of the total left inventory\n",
    "        print(\"Inventory of\", x , \"is: \", y )\n",
    "    return x and y"
   ]
  },
  {
   "cell_type": "code",
   "execution_count": 7,
   "id": "99a1f8ed",
   "metadata": {},
   "outputs": [],
   "source": [
    "def get_new_prices(products):\n",
    "    total_price = 0\n",
    "    for product in products:\n",
    "        while True:\n",
    "            try:\n",
    "                price = float(input(f\"Please add a price for {product}: \"))\n",
    "                if price < 0:\n",
    "                    raise ValueError(\"Price cannot be negative.\")\n",
    "                total_price += price\n",
    "                break  # Exit the loop if the price is valid\n",
    "            except ValueError as ve:\n",
    "                print(\"Invalid price. Please enter a valid positive numeric value.\")\n",
    "    print('The total price is:', total_price)\n",
    "    return total_price\n"
   ]
  },
  {
   "cell_type": "code",
   "execution_count": 9,
   "id": "c801a8f6",
   "metadata": {},
   "outputs": [
    {
     "name": "stdout",
     "output_type": "stream",
     "text": [
      "Enter the quantity of t-shirts available: -1\n",
      "Quantity cannot be negative. Please enter a valid quantity.\n",
      "Enter the quantity of t-shirts available: -4\n",
      "Quantity cannot be negative. Please enter a valid quantity.\n",
      "Enter the quantity of t-shirts available: 1\n",
      "Enter the quantity of mugs available: 9\n",
      "Enter the quantity of hats available: 0\n",
      "Enter the quantity of books available: 0\n",
      "Enter the quantity of keychains available: 0\n",
      "Enter the number of customer orders: -4\n",
      "Invalid input. Please enter a valid positive integer.\n",
      "Enter the number of customer orders: 1\n",
      "Choose one of the following items: ['t-shirt', 'mug', 'hat', 'book', 'keychain']: mug\n",
      "You chose: mug\n",
      "Thank you for purchasing: {'mug'}\n",
      "Percentage of customer order 20.0 %\n",
      "{'mug'}\n",
      "Inventory of t-shirt is:  1\n",
      "Inventory of mug is:  8\n",
      "Inventory of hat is:  0\n",
      "Inventory of book is:  0\n",
      "Inventory of keychain is:  0\n",
      "Please add a price for mug: -1\n",
      "Invalid price. Please enter a valid positive numeric value.\n",
      "Please add a price for mug: 0\n",
      "The total price is: 0.0\n"
     ]
    },
    {
     "data": {
      "text/plain": [
       "0.0"
      ]
     },
     "execution_count": 9,
     "metadata": {},
     "output_type": "execute_result"
    }
   ],
   "source": [
    "products = [\"t-shirt\", \"mug\", \"hat\", \"book\", \"keychain\"]\n",
    "inventory = initialize_inventory(products)\n",
    "customer_orders = get_customer_orders(products,inventory)\n",
    "update_inventory(customer_orders, inventory)\n",
    "order_statistics = calculate_order_statistics(customer_orders, products)\n",
    "print_order_statistics(order_statistics)\n",
    "print_updated_inventory(inventory)\n",
    "get_new_prices(customer_orders)"
   ]
  },
  {
   "cell_type": "markdown",
   "id": "bc99b386-7508-47a0-bcdb-d969deaf6c8b",
   "metadata": {},
   "source": [
    "## Exercise: Error Handling for Managing Customer Orders\n",
    "\n",
    "The implementation of your code for managing customer orders assumes that the user will always enter a valid input. \n",
    "\n",
    "For example, we could modify the `initialize_inventory` function to include error handling.\n",
    "   - If the user enters an invalid quantity (e.g., a negative value or a non-numeric value), display an error message and ask them to re-enter the quantity for that product.\n",
    "   - Use a try-except block to handle the error and continue prompting the user until a valid quantity is entered.\n",
    "\n",
    "```python\n",
    "# Step 1: Define the function for initializing the inventory with error handling\n",
    "def initialize_inventory(products):\n",
    "    inventory = {}\n",
    "    for product in products:\n",
    "        valid_quantity = False\n",
    "        while not valid_quantity:\n",
    "            try:\n",
    "                quantity = int(input(f\"Enter the quantity of {product}s available: \"))\n",
    "                if quantity < 0:\n",
    "                    raise ValueError(\"Invalid quantity! Please enter a non-negative value.\")\n",
    "                valid_quantity = True\n",
    "            except ValueError as error:\n",
    "                print(f\"Error: {error}\")\n",
    "        inventory[product] = quantity\n",
    "    return inventory\n",
    "\n",
    "# Or, in another way:\n",
    "\n",
    "def initialize_inventory(products):\n",
    "    inventory = {}\n",
    "    for product in products:\n",
    "        valid_input = False\n",
    "        while not valid_input:\n",
    "            try:\n",
    "                quantity = int(input(f\"Enter the quantity of {product}s available: \"))\n",
    "                if quantity >= 0:\n",
    "                    inventory[product] = quantity\n",
    "                    valid_input = True\n",
    "                else:\n",
    "                    print(\"Quantity cannot be negative. Please enter a valid quantity.\")\n",
    "            except ValueError:\n",
    "                print(\"Invalid input. Please enter a valid quantity.\")\n",
    "    return inventory\n",
    "```\n",
    "\n",
    "Let's enhance your code by implementing error handling to handle invalid inputs.\n",
    "\n",
    "Follow the steps below to complete the exercise:\n",
    "\n",
    "2. Modify the `calculate_total_price` function to include error handling.\n",
    "   - If the user enters an invalid price (e.g., a negative value or a non-numeric value), display an error message and ask them to re-enter the price for that product.\n",
    "   - Use a try-except block to handle the error and continue prompting the user until a valid price is entered.\n",
    "\n",
    "3. Modify the `get_customer_orders` function to include error handling.\n",
    "   - If the user enters an invalid number of orders (e.g., a negative value or a non-numeric value), display an error message and ask them to re-enter the number of orders.\n",
    "   - If the user enters an invalid product name (e.g., a product name that is not in the inventory), or that doesn't have stock available, display an error message and ask them to re-enter the product name. *Hint: you will need to pass inventory as a parameter*\n",
    "   - Use a try-except block to handle the error and continue prompting the user until a valid product name is entered.\n",
    "\n",
    "4. Test your code by running the program and deliberately entering invalid quantities and product names. Make sure the error handling mechanism works as expected.\n"
   ]
  }
 ],
 "metadata": {
  "kernelspec": {
   "display_name": "Python 3 (ipykernel)",
   "language": "python",
   "name": "python3"
  },
  "language_info": {
   "codemirror_mode": {
    "name": "ipython",
    "version": 3
   },
   "file_extension": ".py",
   "mimetype": "text/x-python",
   "name": "python",
   "nbconvert_exporter": "python",
   "pygments_lexer": "ipython3",
   "version": "3.11.5"
  }
 },
 "nbformat": 4,
 "nbformat_minor": 5
}
